{
  "nbformat": 4,
  "nbformat_minor": 0,
  "metadata": {
    "kernelspec": {
      "name": "python3",
      "display_name": "Python 3"
    },
    "language_info": {
      "codemirror_mode": {
        "name": "ipython",
        "version": 3
      },
      "file_extension": ".py",
      "mimetype": "text/x-python",
      "name": "python",
      "nbconvert_exporter": "python",
      "pygments_lexer": "ipython3",
      "version": "3.5.5"
    },
    "colab": {
      "name": "deeplearning_and_bandits.ipynb",
      "provenance": [],
      "collapsed_sections": []
    },
    "accelerator": "TPU"
  },
  "cells": [
    {
      "cell_type": "code",
      "metadata": {
        "id": "HtidvmKxgjTt",
        "colab_type": "code",
        "outputId": "2503f6b0-4d08-4ce1-923c-14cb9b731784",
        "colab": {
          "base_uri": "https://localhost:8080/",
          "height": 33
        }
      },
      "source": [
        "from google.colab import drive\n",
        "drive.mount('/content/drive')"
      ],
      "execution_count": 39,
      "outputs": [
        {
          "output_type": "stream",
          "text": [
            "Drive already mounted at /content/drive; to attempt to forcibly remount, call drive.mount(\"/content/drive\", force_remount=True).\n"
          ],
          "name": "stdout"
        }
      ]
    },
    {
      "cell_type": "code",
      "metadata": {
        "id": "SYZynYaIgeeI",
        "colab_type": "code",
        "colab": {}
      },
      "source": [
        "from builtins import range, input\n",
        "import pickle\n",
        "import numpy as np\n",
        "import pandas as pd\n",
        "import matplotlib.pyplot as plt\n",
        "from sklearn.utils import shuffle\n",
        "import keras.backend as K\n",
        "from keras.models import Model\n",
        "from keras.layers import Input, Embedding, Dot, Add, Flatten, Dense, Concatenate \n",
        "from keras.regularizers import l2\n",
        "from keras.optimizers import SGD, Adam\n",
        "from keras.layers import Dropout, BatchNormalization, Activation\n",
        "from scipy.sparse import lil_matrix, csr_matrix"
      ],
      "execution_count": 0,
      "outputs": []
    },
    {
      "cell_type": "code",
      "metadata": {
        "id": "VUN0OoW7geeS",
        "colab_type": "code",
        "outputId": "eac26668-1bc1-4fb5-ba21-a6fa2b90bc39",
        "colab": {
          "base_uri": "https://localhost:8080/",
          "height": 281
        }
      },
      "source": [
        "def get_userId(info):\n",
        "    userId, movieId, rating, timestamp = info.split(\"::\")\n",
        "    return int(userId)\n",
        "\n",
        "def get_movieId(info):\n",
        "    userId, movieId, rating, timestamp = info.split(\"::\")\n",
        "    return int(movieId)\n",
        "\n",
        "def get_rating(info):\n",
        "    userId, movieId, rating, timestamp = info.split(\"::\")\n",
        "    return int(rating)\n",
        "\n",
        "def get_timestamp(info):\n",
        "    userId, movieId, rating, timestamp = info.split(\"::\")\n",
        "    return int(timestamp)\n",
        "\n",
        "# load in the data\n",
        "df = pd.read_csv('/content/drive/My Drive/Dataset/ratings.dat')\n",
        "df.columns = ['ratings_info']\n",
        "\n",
        "df['userId'] = df.ratings_info.apply(get_userId)\n",
        "df['movieId'] = df.ratings_info.apply(get_movieId)\n",
        "df['rating'] = df.ratings_info.apply(get_rating)\n",
        "df['timestamp'] = df.ratings_info.apply(get_timestamp)\n",
        "df.drop('ratings_info', axis=1, inplace=True)\n",
        "print(df.count())\n",
        "df.head()"
      ],
      "execution_count": 41,
      "outputs": [
        {
          "output_type": "stream",
          "text": [
            "userId       1000208\n",
            "movieId      1000208\n",
            "rating       1000208\n",
            "timestamp    1000208\n",
            "dtype: int64\n"
          ],
          "name": "stdout"
        },
        {
          "output_type": "execute_result",
          "data": {
            "text/html": [
              "<div>\n",
              "<style scoped>\n",
              "    .dataframe tbody tr th:only-of-type {\n",
              "        vertical-align: middle;\n",
              "    }\n",
              "\n",
              "    .dataframe tbody tr th {\n",
              "        vertical-align: top;\n",
              "    }\n",
              "\n",
              "    .dataframe thead th {\n",
              "        text-align: right;\n",
              "    }\n",
              "</style>\n",
              "<table border=\"1\" class=\"dataframe\">\n",
              "  <thead>\n",
              "    <tr style=\"text-align: right;\">\n",
              "      <th></th>\n",
              "      <th>userId</th>\n",
              "      <th>movieId</th>\n",
              "      <th>rating</th>\n",
              "      <th>timestamp</th>\n",
              "    </tr>\n",
              "  </thead>\n",
              "  <tbody>\n",
              "    <tr>\n",
              "      <th>0</th>\n",
              "      <td>1</td>\n",
              "      <td>661</td>\n",
              "      <td>3</td>\n",
              "      <td>978302109</td>\n",
              "    </tr>\n",
              "    <tr>\n",
              "      <th>1</th>\n",
              "      <td>1</td>\n",
              "      <td>914</td>\n",
              "      <td>3</td>\n",
              "      <td>978301968</td>\n",
              "    </tr>\n",
              "    <tr>\n",
              "      <th>2</th>\n",
              "      <td>1</td>\n",
              "      <td>3408</td>\n",
              "      <td>4</td>\n",
              "      <td>978300275</td>\n",
              "    </tr>\n",
              "    <tr>\n",
              "      <th>3</th>\n",
              "      <td>1</td>\n",
              "      <td>2355</td>\n",
              "      <td>5</td>\n",
              "      <td>978824291</td>\n",
              "    </tr>\n",
              "    <tr>\n",
              "      <th>4</th>\n",
              "      <td>1</td>\n",
              "      <td>1197</td>\n",
              "      <td>3</td>\n",
              "      <td>978302268</td>\n",
              "    </tr>\n",
              "  </tbody>\n",
              "</table>\n",
              "</div>"
            ],
            "text/plain": [
              "   userId  movieId  rating  timestamp\n",
              "0       1      661       3  978302109\n",
              "1       1      914       3  978301968\n",
              "2       1     3408       4  978300275\n",
              "3       1     2355       5  978824291\n",
              "4       1     1197       3  978302268"
            ]
          },
          "metadata": {
            "tags": []
          },
          "execution_count": 41
        }
      ]
    },
    {
      "cell_type": "code",
      "metadata": {
        "id": "PJJfXc27geeX",
        "colab_type": "code",
        "colab": {}
      },
      "source": [
        "N = df.userId.max() + 1 # number of users\n",
        "M = df.movieId.max() + 1 # number of movies\n",
        "\n",
        "# split into train and test\n",
        "df = shuffle(df)\n",
        "cutoff = int(0.8*len(df))\n",
        "df_train = df.iloc[:cutoff]\n",
        "df_test = df.iloc[cutoff:]"
      ],
      "execution_count": 0,
      "outputs": []
    },
    {
      "cell_type": "code",
      "metadata": {
        "id": "U2-JdmoWgeeb",
        "colab_type": "code",
        "colab": {}
      },
      "source": [
        "# initialize variables\n",
        "K = 10 # latent dimensionality\n",
        "mu = df_train.rating.mean()\n",
        "epochs = 10\n",
        "reg = 0.0001 # regularization penalty\n"
      ],
      "execution_count": 0,
      "outputs": []
    },
    {
      "cell_type": "markdown",
      "metadata": {
        "id": "6_ElFM6xgee1",
        "colab_type": "text"
      },
      "source": [
        "## deep learning model"
      ]
    },
    {
      "cell_type": "code",
      "metadata": {
        "id": "qnjgEG1pgee3",
        "colab_type": "code",
        "colab": {}
      },
      "source": [
        "# keras model\n",
        "u = Input(shape=(1,))\n",
        "m = Input(shape=(1,))\n",
        "u_embedding = Embedding(N, K)(u) # (N, 1, K)\n",
        "m_embedding = Embedding(M, K)(m) # (N, 1, K)\n",
        "u_embedding = Flatten()(u_embedding) # (N, K)\n",
        "m_embedding = Flatten()(m_embedding) # (N, K)\n",
        "x = Concatenate()([u_embedding, m_embedding]) # (N, 2K)\n",
        "\n",
        "# the neural network\n",
        "x = Dense(300)(x)\n",
        "x = Activation('relu')(x)\n",
        "x = Dense(1)(x)\n",
        "\n",
        "model_deep = Model(inputs=[u, m], outputs=x)"
      ],
      "execution_count": 0,
      "outputs": []
    },
    {
      "cell_type": "code",
      "metadata": {
        "id": "eWbNirgpunlI",
        "colab_type": "code",
        "outputId": "c38749a4-3e81-49a6-96fa-7f08330b5ce1",
        "colab": {
          "base_uri": "https://localhost:8080/",
          "height": 500
        }
      },
      "source": [
        "model_deep.summary()"
      ],
      "execution_count": 45,
      "outputs": [
        {
          "output_type": "stream",
          "text": [
            "Model: \"model_12\"\n",
            "__________________________________________________________________________________________________\n",
            "Layer (type)                    Output Shape         Param #     Connected to                     \n",
            "==================================================================================================\n",
            "input_39 (InputLayer)           (None, 1)            0                                            \n",
            "__________________________________________________________________________________________________\n",
            "input_40 (InputLayer)           (None, 1)            0                                            \n",
            "__________________________________________________________________________________________________\n",
            "embedding_33 (Embedding)        (None, 1, 10)        60410       input_39[0][0]                   \n",
            "__________________________________________________________________________________________________\n",
            "embedding_34 (Embedding)        (None, 1, 10)        39530       input_40[0][0]                   \n",
            "__________________________________________________________________________________________________\n",
            "flatten_27 (Flatten)            (None, 10)           0           embedding_33[0][0]               \n",
            "__________________________________________________________________________________________________\n",
            "flatten_28 (Flatten)            (None, 10)           0           embedding_34[0][0]               \n",
            "__________________________________________________________________________________________________\n",
            "concatenate_14 (Concatenate)    (None, 20)           0           flatten_27[0][0]                 \n",
            "                                                                 flatten_28[0][0]                 \n",
            "__________________________________________________________________________________________________\n",
            "dense_32 (Dense)                (None, 300)          6300        concatenate_14[0][0]             \n",
            "__________________________________________________________________________________________________\n",
            "activation_21 (Activation)      (None, 300)          0           dense_32[0][0]                   \n",
            "__________________________________________________________________________________________________\n",
            "dense_33 (Dense)                (None, 1)            301         activation_21[0][0]              \n",
            "==================================================================================================\n",
            "Total params: 106,541\n",
            "Trainable params: 106,541\n",
            "Non-trainable params: 0\n",
            "__________________________________________________________________________________________________\n"
          ],
          "name": "stdout"
        }
      ]
    },
    {
      "cell_type": "code",
      "metadata": {
        "id": "B4sw2nV0gee8",
        "colab_type": "code",
        "colab": {}
      },
      "source": [
        "model_deep.compile(\n",
        "  loss='mae',\n",
        "  #optimizer='adam',\n",
        "  optimizer=Adam(lr=0.01),\n",
        "  #optimizer=SGD(lr=0.08, momentum=0.9),\n",
        "  metrics=['mae'],\n",
        ")"
      ],
      "execution_count": 0,
      "outputs": []
    },
    {
      "cell_type": "code",
      "metadata": {
        "id": "FMP1N6XagefD",
        "colab_type": "code",
        "outputId": "578397f3-6ec9-4c3d-bc50-0bddc5dd2b4a",
        "colab": {
          "base_uri": "https://localhost:8080/",
          "height": 386
        }
      },
      "source": [
        "r_deep = model_deep.fit(\n",
        "  x=[df_train.userId.values, df_train.movieId.values],\n",
        "  y=df_train.rating.values - mu,\n",
        "  epochs=epochs,\n",
        "  batch_size=512,\n",
        "  validation_data=(\n",
        "    [df_test.userId.values, df_test.movieId.values],\n",
        "    df_test.rating.values - mu\n",
        "  )\n",
        ")\n"
      ],
      "execution_count": 47,
      "outputs": [
        {
          "output_type": "stream",
          "text": [
            "Train on 800166 samples, validate on 200042 samples\n",
            "Epoch 1/10\n",
            "800166/800166 [==============================] - 10s 12us/step - loss: 0.7183 - mean_absolute_error: 0.7183 - val_loss: 0.6900 - val_mean_absolute_error: 0.6900\n",
            "Epoch 2/10\n",
            "800166/800166 [==============================] - 10s 12us/step - loss: 0.6824 - mean_absolute_error: 0.6824 - val_loss: 0.6814 - val_mean_absolute_error: 0.6814\n",
            "Epoch 3/10\n",
            "800166/800166 [==============================] - 9s 11us/step - loss: 0.6697 - mean_absolute_error: 0.6697 - val_loss: 0.6786 - val_mean_absolute_error: 0.6786\n",
            "Epoch 4/10\n",
            "800166/800166 [==============================] - 9s 11us/step - loss: 0.6628 - mean_absolute_error: 0.6628 - val_loss: 0.6762 - val_mean_absolute_error: 0.6762\n",
            "Epoch 5/10\n",
            "800166/800166 [==============================] - 9s 11us/step - loss: 0.6581 - mean_absolute_error: 0.6581 - val_loss: 0.6753 - val_mean_absolute_error: 0.6753\n",
            "Epoch 6/10\n",
            "800166/800166 [==============================] - 9s 11us/step - loss: 0.6542 - mean_absolute_error: 0.6542 - val_loss: 0.6745 - val_mean_absolute_error: 0.6745\n",
            "Epoch 7/10\n",
            "800166/800166 [==============================] - 9s 11us/step - loss: 0.6508 - mean_absolute_error: 0.6508 - val_loss: 0.6736 - val_mean_absolute_error: 0.6736\n",
            "Epoch 8/10\n",
            "800166/800166 [==============================] - 9s 11us/step - loss: 0.6483 - mean_absolute_error: 0.6483 - val_loss: 0.6731 - val_mean_absolute_error: 0.6731\n",
            "Epoch 9/10\n",
            "800166/800166 [==============================] - 9s 12us/step - loss: 0.6457 - mean_absolute_error: 0.6457 - val_loss: 0.6803 - val_mean_absolute_error: 0.6803\n",
            "Epoch 10/10\n",
            "800166/800166 [==============================] - 9s 12us/step - loss: 0.6437 - mean_absolute_error: 0.6437 - val_loss: 0.6710 - val_mean_absolute_error: 0.6710\n"
          ],
          "name": "stdout"
        }
      ]
    },
    {
      "cell_type": "code",
      "metadata": {
        "id": "cjP-W4nngefG",
        "colab_type": "code",
        "outputId": "68e66e1a-be3b-45be-b235-6967411890f4",
        "colab": {
          "base_uri": "https://localhost:8080/",
          "height": 281
        }
      },
      "source": [
        "# plot losses\n",
        "plt.plot(r_deep.history['loss'], label=\"train loss\")\n",
        "plt.plot(r_deep.history['val_loss'], label=\"test loss\")\n",
        "plt.legend()\n",
        "\n"
      ],
      "execution_count": 48,
      "outputs": [
        {
          "output_type": "execute_result",
          "data": {
            "text/plain": [
              "<matplotlib.legend.Legend at 0x7f7a2cbe0588>"
            ]
          },
          "metadata": {
            "tags": []
          },
          "execution_count": 48
        },
        {
          "output_type": "display_data",
          "data": {
            "image/png": "[encoded data removed]",
            "text/plain": [
              "<Figure size 432x288 with 1 Axes>"
            ]
          },
          "metadata": {
            "tags": []
          }
        }
      ]
    },
    {
      "cell_type": "code",
      "metadata": {
        "id": "jv4pBQAtgefL",
        "colab_type": "code",
        "outputId": "e2c1f2ca-91bc-4ea3-8944-9bffc699db3a",
        "colab": {
          "base_uri": "https://localhost:8080/",
          "height": 281
        }
      },
      "source": [
        "# plot mse\n",
        "plt.plot(r_deep.history['mean_absolute_error'], label=\"train mse\")\n",
        "plt.plot(r_deep.history['val_mean_absolute_error'], label=\"test mse\")\n",
        "plt.legend()\n"
      ],
      "execution_count": 49,
      "outputs": [
        {
          "output_type": "execute_result",
          "data": {
            "text/plain": [
              "<matplotlib.legend.Legend at 0x7f7a2cb54198>"
            ]
          },
          "metadata": {
            "tags": []
          },
          "execution_count": 49
        },
        {
          "output_type": "display_data",
          "data": {
            "image/png": "[encoded data removed]",
            "text/plain": [
              "<Figure size 432x288 with 1 Axes>"
            ]
          },
          "metadata": {
            "tags": []
          }
        }
      ]
    },
    {
      "cell_type": "code",
      "metadata": {
        "id": "qB1gmwCS7sZa",
        "colab_type": "code",
        "colab": {}
      },
      "source": [
        "# keras model\n",
        "u = Input(shape=(1,))\n",
        "m = Input(shape=(1,))\n",
        "u_embedding = Embedding(N, K)(u) # (N, 1, K)\n",
        "m_embedding = Embedding(M, K)(m) # (N, 1, K)\n",
        "u_embedding = Flatten()(u_embedding) # (N, K)\n",
        "m_embedding = Flatten()(m_embedding) # (N, K)\n",
        "x = Concatenate()([u_embedding, m_embedding]) # (N, 2K)\n",
        "\n",
        "# the neural network\n",
        "x = Dense(300)(x)\n",
        "x = Activation('relu')(x)\n",
        "x = Dense(1)(x)\n",
        "\n",
        "model_deep2 = Model(inputs=[u, m], outputs=x)"
      ],
      "execution_count": 0,
      "outputs": []
    },
    {
      "cell_type": "code",
      "metadata": {
        "id": "3c6pwzUP766J",
        "colab_type": "code",
        "colab": {}
      },
      "source": [
        "model_deep2.compile(\n",
        "  loss='mae',\n",
        "  #optimizer='adam',\n",
        "  optimizer=Adam(lr=0.01),\n",
        "  #optimizer=SGD(lr=0.08, momentum=0.9),\n",
        "  metrics=['mae'],\n",
        ")"
      ],
      "execution_count": 0,
      "outputs": []
    },
    {
      "cell_type": "code",
      "metadata": {
        "id": "CIVUZO9J8CuJ",
        "colab_type": "code",
        "outputId": "e2377c27-45b2-4ebd-84b4-12ea08e833d2",
        "colab": {
          "base_uri": "https://localhost:8080/",
          "height": 553
        }
      },
      "source": [
        "r_deep2 = model_deep2.fit(\n",
        "  x=[df_train.userId.values, df_train.movieId.values],\n",
        "  y=df_train.rating.values - mu,\n",
        "  epochs=15,\n",
        "  batch_size=512,\n",
        "  validation_data=(\n",
        "    [df_test.userId.values, df_test.movieId.values],\n",
        "    df_test.rating.values - mu\n",
        "  )\n",
        ")\n"
      ],
      "execution_count": 52,
      "outputs": [
        {
          "output_type": "stream",
          "text": [
            "Train on 800166 samples, validate on 200042 samples\n",
            "Epoch 1/15\n",
            "800166/800166 [==============================] - 10s 13us/step - loss: 0.7190 - mean_absolute_error: 0.7190 - val_loss: 0.6922 - val_mean_absolute_error: 0.6922\n",
            "Epoch 2/15\n",
            "800166/800166 [==============================] - 9s 12us/step - loss: 0.6823 - mean_absolute_error: 0.6823 - val_loss: 0.6847 - val_mean_absolute_error: 0.6847\n",
            "Epoch 3/15\n",
            "800166/800166 [==============================] - 9s 12us/step - loss: 0.6703 - mean_absolute_error: 0.6703 - val_loss: 0.6783 - val_mean_absolute_error: 0.6783\n",
            "Epoch 4/15\n",
            "800166/800166 [==============================] - 9s 12us/step - loss: 0.6629 - mean_absolute_error: 0.6629 - val_loss: 0.6779 - val_mean_absolute_error: 0.6779\n",
            "Epoch 5/15\n",
            "800166/800166 [==============================] - 10s 12us/step - loss: 0.6574 - mean_absolute_error: 0.6574 - val_loss: 0.6762 - val_mean_absolute_error: 0.6762\n",
            "Epoch 6/15\n",
            "800166/800166 [==============================] - 9s 11us/step - loss: 0.6534 - mean_absolute_error: 0.6534 - val_loss: 0.6745 - val_mean_absolute_error: 0.6745\n",
            "Epoch 7/15\n",
            "800166/800166 [==============================] - 9s 11us/step - loss: 0.6500 - mean_absolute_error: 0.6500 - val_loss: 0.6726 - val_mean_absolute_error: 0.6726\n",
            "Epoch 8/15\n",
            "800166/800166 [==============================] - 9s 11us/step - loss: 0.6474 - mean_absolute_error: 0.6474 - val_loss: 0.6717 - val_mean_absolute_error: 0.6717\n",
            "Epoch 9/15\n",
            "800166/800166 [==============================] - 9s 11us/step - loss: 0.6454 - mean_absolute_error: 0.6454 - val_loss: 0.6806 - val_mean_absolute_error: 0.6806\n",
            "Epoch 10/15\n",
            "800166/800166 [==============================] - 9s 11us/step - loss: 0.6426 - mean_absolute_error: 0.6426 - val_loss: 0.6737 - val_mean_absolute_error: 0.6737\n",
            "Epoch 11/15\n",
            "800166/800166 [==============================] - 9s 11us/step - loss: 0.6410 - mean_absolute_error: 0.6410 - val_loss: 0.6735 - val_mean_absolute_error: 0.6735\n",
            "Epoch 12/15\n",
            "800166/800166 [==============================] - 9s 11us/step - loss: 0.6394 - mean_absolute_error: 0.6394 - val_loss: 0.6768 - val_mean_absolute_error: 0.6768\n",
            "Epoch 13/15\n",
            "800166/800166 [==============================] - 9s 11us/step - loss: 0.6377 - mean_absolute_error: 0.6377 - val_loss: 0.6754 - val_mean_absolute_error: 0.6754\n",
            "Epoch 14/15\n",
            "800166/800166 [==============================] - 9s 11us/step - loss: 0.6368 - mean_absolute_error: 0.6368 - val_loss: 0.6743 - val_mean_absolute_error: 0.6743\n",
            "Epoch 15/15\n",
            "800166/800166 [==============================] - 9s 11us/step - loss: 0.6355 - mean_absolute_error: 0.6355 - val_loss: 0.6742 - val_mean_absolute_error: 0.6742\n"
          ],
          "name": "stdout"
        }
      ]
    },
    {
      "cell_type": "code",
      "metadata": {
        "id": "NLv37R4vwU1n",
        "colab_type": "code",
        "colab": {
          "base_uri": "https://localhost:8080/",
          "height": 281
        },
        "outputId": "027b4081-192e-4432-91c0-b24d36b38564"
      },
      "source": [
        "# plot losses\n",
        "plt.plot(r_deep2.history['loss'], label=\"train loss\")\n",
        "plt.plot(r_deep2.history['val_loss'], label=\"test loss\")\n",
        "plt.legend()\n"
      ],
      "execution_count": 53,
      "outputs": [
        {
          "output_type": "execute_result",
          "data": {
            "text/plain": [
              "<matplotlib.legend.Legend at 0x7f7a2c9c4208>"
            ]
          },
          "metadata": {
            "tags": []
          },
          "execution_count": 53
        },
        {
          "output_type": "display_data",
          "data": {
            "image/png": "[encoded data removed]",
            "text/plain": [
              "<Figure size 432x288 with 1 Axes>"
            ]
          },
          "metadata": {
            "tags": []
          }
        }
      ]
    },
    {
      "cell_type": "code",
      "metadata": {
        "id": "Ky101_LBgXzK",
        "colab_type": "code",
        "colab": {
          "base_uri": "https://localhost:8080/",
          "height": 1000
        },
        "outputId": "ac9d7fc1-cc87-4e69-a30e-b2876c0d9444"
      },
      "source": [
        "# keras model\n",
        "u = Input(shape=(1,))\n",
        "m = Input(shape=(1,))\n",
        "u_embedding = Embedding(N, K)(u) # (N, 1, K)\n",
        "m_embedding = Embedding(M, K)(m) # (N, 1, K)\n",
        "u_embedding = Flatten()(u_embedding) # (N, K)\n",
        "m_embedding = Flatten()(m_embedding) # (N, K)\n",
        "x = Concatenate()([u_embedding, m_embedding]) # (N, 2K)\n",
        "\n",
        "# the neural network\n",
        "x = Dense(200)(x)\n",
        "x = Activation('softmax')(x)\n",
        "x = Dense(400)(x)\n",
        "x = Activation('relu')(x)\n",
        "x = Dense(1)(x)\n",
        "\n",
        "model_deep3 = Model(inputs=[u, m], outputs=x)\n",
        "model_deep3.summary()\n",
        "model_deep3.compile(\n",
        "  loss='mae',\n",
        "  #optimizer='adam',\n",
        "  optimizer=Adam(lr=0.01),\n",
        "  #optimizer=SGD(lr=0.08, momentum=0.9),\n",
        "  metrics=['mae'],\n",
        ")\n",
        "\n",
        "r_deep = model_deep3.fit(\n",
        "  x=[df_train.userId.values, df_train.movieId.values],\n",
        "  y=df_train.rating.values - mu,\n",
        "  epochs=20,\n",
        "  batch_size=512,\n",
        "  validation_data=(\n",
        "    [df_test.userId.values, df_test.movieId.values],\n",
        "    df_test.rating.values - mu\n",
        "  )\n",
        ")"
      ],
      "execution_count": 54,
      "outputs": [
        {
          "output_type": "stream",
          "text": [
            "Model: \"model_14\"\n",
            "__________________________________________________________________________________________________\n",
            "Layer (type)                    Output Shape         Param #     Connected to                     \n",
            "==================================================================================================\n",
            "input_43 (InputLayer)           (None, 1)            0                                            \n",
            "__________________________________________________________________________________________________\n",
            "input_44 (InputLayer)           (None, 1)            0                                            \n",
            "__________________________________________________________________________________________________\n",
            "embedding_37 (Embedding)        (None, 1, 10)        60410       input_43[0][0]                   \n",
            "__________________________________________________________________________________________________\n",
            "embedding_38 (Embedding)        (None, 1, 10)        39530       input_44[0][0]                   \n",
            "__________________________________________________________________________________________________\n",
            "flatten_31 (Flatten)            (None, 10)           0           embedding_37[0][0]               \n",
            "__________________________________________________________________________________________________\n",
            "flatten_32 (Flatten)            (None, 10)           0           embedding_38[0][0]               \n",
            "__________________________________________________________________________________________________\n",
            "concatenate_16 (Concatenate)    (None, 20)           0           flatten_31[0][0]                 \n",
            "                                                                 flatten_32[0][0]                 \n",
            "__________________________________________________________________________________________________\n",
            "dense_36 (Dense)                (None, 200)          4200        concatenate_16[0][0]             \n",
            "__________________________________________________________________________________________________\n",
            "activation_23 (Activation)      (None, 200)          0           dense_36[0][0]                   \n",
            "__________________________________________________________________________________________________\n",
            "dense_37 (Dense)                (None, 400)          80400       activation_23[0][0]              \n",
            "__________________________________________________________________________________________________\n",
            "activation_24 (Activation)      (None, 400)          0           dense_37[0][0]                   \n",
            "__________________________________________________________________________________________________\n",
            "dense_38 (Dense)                (None, 1)            401         activation_24[0][0]              \n",
            "==================================================================================================\n",
            "Total params: 184,941\n",
            "Trainable params: 184,941\n",
            "Non-trainable params: 0\n",
            "__________________________________________________________________________________________________\n",
            "Train on 800166 samples, validate on 200042 samples\n",
            "Epoch 1/20\n",
            "800166/800166 [==============================] - 21s 26us/step - loss: 0.7181 - mean_absolute_error: 0.7181 - val_loss: 0.6890 - val_mean_absolute_error: 0.6890\n",
            "Epoch 2/20\n",
            "800166/800166 [==============================] - 20s 25us/step - loss: 0.6766 - mean_absolute_error: 0.6766 - val_loss: 0.6814 - val_mean_absolute_error: 0.6814\n",
            "Epoch 3/20\n",
            "800166/800166 [==============================] - 19s 24us/step - loss: 0.6666 - mean_absolute_error: 0.6666 - val_loss: 0.6797 - val_mean_absolute_error: 0.6797\n",
            "Epoch 4/20\n",
            "800166/800166 [==============================] - 20s 24us/step - loss: 0.6591 - mean_absolute_error: 0.6591 - val_loss: 0.6775 - val_mean_absolute_error: 0.6775\n",
            "Epoch 5/20\n",
            "800166/800166 [==============================] - 20s 25us/step - loss: 0.6556 - mean_absolute_error: 0.6556 - val_loss: 0.6767 - val_mean_absolute_error: 0.6767\n",
            "Epoch 6/20\n",
            "800166/800166 [==============================] - 19s 24us/step - loss: 0.6520 - mean_absolute_error: 0.6520 - val_loss: 0.6744 - val_mean_absolute_error: 0.6744\n",
            "Epoch 7/20\n",
            "800166/800166 [==============================] - 19s 24us/step - loss: 0.6484 - mean_absolute_error: 0.6484 - val_loss: 0.6730 - val_mean_absolute_error: 0.6730\n",
            "Epoch 8/20\n",
            "800166/800166 [==============================] - 20s 24us/step - loss: 0.6463 - mean_absolute_error: 0.6463 - val_loss: 0.6728 - val_mean_absolute_error: 0.6728\n",
            "Epoch 9/20\n",
            "800166/800166 [==============================] - 20s 25us/step - loss: 0.6451 - mean_absolute_error: 0.6451 - val_loss: 0.6730 - val_mean_absolute_error: 0.6730\n",
            "Epoch 10/20\n",
            "800166/800166 [==============================] - 20s 25us/step - loss: 0.6428 - mean_absolute_error: 0.6428 - val_loss: 0.6721 - val_mean_absolute_error: 0.6721\n",
            "Epoch 11/20\n",
            "800166/800166 [==============================] - 20s 25us/step - loss: 0.6401 - mean_absolute_error: 0.6401 - val_loss: 0.6719 - val_mean_absolute_error: 0.6719\n",
            "Epoch 12/20\n",
            "800166/800166 [==============================] - 20s 25us/step - loss: 0.6375 - mean_absolute_error: 0.6375 - val_loss: 0.6714 - val_mean_absolute_error: 0.6714\n",
            "Epoch 13/20\n",
            "800166/800166 [==============================] - 22s 27us/step - loss: 0.6354 - mean_absolute_error: 0.6354 - val_loss: 0.6724 - val_mean_absolute_error: 0.6724\n",
            "Epoch 14/20\n",
            "800166/800166 [==============================] - 20s 25us/step - loss: 0.6338 - mean_absolute_error: 0.6338 - val_loss: 0.6731 - val_mean_absolute_error: 0.6731\n",
            "Epoch 15/20\n",
            "800166/800166 [==============================] - 19s 24us/step - loss: 0.6327 - mean_absolute_error: 0.6327 - val_loss: 0.6710 - val_mean_absolute_error: 0.6710\n",
            "Epoch 16/20\n",
            "800166/800166 [==============================] - 20s 25us/step - loss: 0.6310 - mean_absolute_error: 0.6310 - val_loss: 0.6713 - val_mean_absolute_error: 0.6713\n",
            "Epoch 17/20\n",
            "800166/800166 [==============================] - 20s 24us/step - loss: 0.6292 - mean_absolute_error: 0.6292 - val_loss: 0.6709 - val_mean_absolute_error: 0.6709\n",
            "Epoch 18/20\n",
            "800166/800166 [==============================] - 20s 25us/step - loss: 0.6275 - mean_absolute_error: 0.6275 - val_loss: 0.6705 - val_mean_absolute_error: 0.6705\n",
            "Epoch 19/20\n",
            "800166/800166 [==============================] - 20s 25us/step - loss: 0.6256 - mean_absolute_error: 0.6256 - val_loss: 0.6691 - val_mean_absolute_error: 0.6691\n",
            "Epoch 20/20\n",
            "800166/800166 [==============================] - 20s 25us/step - loss: 0.6247 - mean_absolute_error: 0.6247 - val_loss: 0.6705 - val_mean_absolute_error: 0.6705\n"
          ],
          "name": "stdout"
        }
      ]
    },
    {
      "cell_type": "code",
      "metadata": {
        "id": "zKuFWz63dzJQ",
        "colab_type": "code",
        "colab": {
          "base_uri": "https://localhost:8080/",
          "height": 281
        },
        "outputId": "384fc04d-2d06-4f0b-be1d-7b01d4fb7c51"
      },
      "source": [
        "# plot losses\n",
        "plt.plot(r_deep.history['loss'], label=\"train loss\")\n",
        "plt.plot(r_deep.history['val_loss'], label=\"test loss\")\n",
        "plt.legend()"
      ],
      "execution_count": 55,
      "outputs": [
        {
          "output_type": "execute_result",
          "data": {
            "text/plain": [
              "<matplotlib.legend.Legend at 0x7f7a2c7a6400>"
            ]
          },
          "metadata": {
            "tags": []
          },
          "execution_count": 55
        },
        {
          "output_type": "display_data",
          "data": {
            "image/png": "[encoded data removed]",
            "text/plain": [
              "<Figure size 432x288 with 1 Axes>"
            ]
          },
          "metadata": {
            "tags": []
          }
        }
      ]
    },
    {
      "cell_type": "code",
      "metadata": {
        "id": "NwRQZEAFfOs1",
        "colab_type": "code",
        "colab": {
          "base_uri": "https://localhost:8080/",
          "height": 281
        },
        "outputId": "b648c9e4-160f-4dd1-8eb2-55c31c4b3f76"
      },
      "source": [
        "# plot losses\n",
        "plt.plot(r_deep.history['mean_absolute_error'], label=\"train loss\")\n",
        "plt.plot(r_deep.history['val_mean_absolute_error'], label=\"test loss\")\n",
        "plt.legend()"
      ],
      "execution_count": 56,
      "outputs": [
        {
          "output_type": "execute_result",
          "data": {
            "text/plain": [
              "<matplotlib.legend.Legend at 0x7f7a2c716668>"
            ]
          },
          "metadata": {
            "tags": []
          },
          "execution_count": 56
        },
        {
          "output_type": "display_data",
          "data": {
            "image/png": "[encoded data removed]",
            "text/plain": [
              "<Figure size 432x288 with 1 Axes>"
            ]
          },
          "metadata": {
            "tags": []
          }
        }
      ]
    }
  ]
}